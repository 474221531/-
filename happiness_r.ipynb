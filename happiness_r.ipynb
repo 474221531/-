{
 "cells": [
  {
   "cell_type": "code",
   "execution_count": 5,
   "metadata": {},
   "outputs": [],
   "source": [
    "import numpy as np \n",
    "import pandas as pd\n",
    "from pandas import  DataFrame,Series\n",
    "from sklearn.preprocessing import LabelBinarizer,StandardScaler\n",
    "#显示所有列\n",
    "pd.set_option('display.max_columns', None)\n",
    "#显示所有行\n",
    "pd.set_option('display.max_rows', None)\n",
    "\n",
    "#导入所有相关数据\n",
    "train = pd.read_csv('C:/Users/Administrator.-20170614IXISUQ/Desktop/幸福感/happiness_train_complete.csv', encoding='gbk')\n",
    "test_data = pd.read_csv('C:/Users/Administrator.-20170614IXISUQ/Desktop/幸福感/happiness_test_complete.csv', encoding='gbk')\n",
    "submit = pd.read_csv('C:/Users/Administrator.-20170614IXISUQ/Desktop/幸福感/happiness_submit.csv', encoding='gbk')\n"
   ]
  },
  {
   "cell_type": "code",
   "execution_count": 6,
   "metadata": {},
   "outputs": [],
   "source": [
    "#排除异常值-8\n",
    "train = train[train['happiness']!=-8]\n",
    "\n",
    "#处理时间序列获取被调查人群年龄\n",
    "from datetime import datetime\n",
    "train['age'] = pd.to_datetime(train['survey_time']).dt.year - train['birth']\n",
    "test_data['age'] = pd.to_datetime(test_data['survey_time']).dt.year - test_data['birth']\n",
    "\n",
    "#删除缺失值较多且感觉无具体含义的数据\n",
    "\n",
    "ind1 = ['id','edu_other','edu_status','edu_yr','join_party','property_other','work_status','work_yr','work_type','work_manage',\n",
    "       'invest_other','survey_time','birth']\n",
    "X = train.drop(ind1,axis=1)\n",
    "X_test_data = test_data.drop(ind1,axis=1)\n",
    "#X.info(verbose=True,null_counts=True)\n",
    "\n",
    "#对所有缺失行进行补充充填\n",
    "#因样本中有着多种与字段解释不匹配的负数存在， 统一将其负数改为-8\n",
    "X['hukou_loc'] = X['hukou_loc'].fillna(4)\n",
    "X = X.fillna(-8)\n",
    "X[X<0]=-8\n",
    "X.head()\n",
    "X_test_data['hukou_loc'] = X_test_data['hukou_loc'].fillna(4)\n",
    "X_test_data = X_test_data.fillna(-8)\n",
    "X_test_data[X_test_data<0]=-8\n"
   ]
  },
  {
   "cell_type": "code",
   "execution_count": 7,
   "metadata": {},
   "outputs": [],
   "source": [
    "#分离标签转换标签\n",
    "X_train1 = X.drop(['happiness'],axis=1)\n",
    "X_label = X['happiness']"
   ]
  },
  {
   "cell_type": "code",
   "execution_count": 8,
   "metadata": {},
   "outputs": [
    {
     "name": "stderr",
     "output_type": "stream",
     "text": [
      "C:\\ProgramData\\Anaconda3\\lib\\site-packages\\ipykernel_launcher.py:4: DataConversionWarning: Data with input dtype int64, float64 were all converted to float64 by StandardScaler.\n",
      "  after removing the cwd from sys.path.\n",
      "C:\\ProgramData\\Anaconda3\\lib\\site-packages\\ipykernel_launcher.py:6: DataConversionWarning: Data with input dtype int64, float64 were all converted to float64 by StandardScaler.\n",
      "  \n"
     ]
    }
   ],
   "source": [
    "\n",
    "#因各特征差距影响较大，进行标准化\n",
    "std = StandardScaler().fit(X_train1.values)\n",
    "X_train_std = std.transform(X_train1)\n",
    "std_1 = StandardScaler().fit(X_test_data.values)\n",
    "X_test_std = std_1.transform(X_test_data)"
   ]
  },
  {
   "cell_type": "code",
   "execution_count": 10,
   "metadata": {},
   "outputs": [],
   "source": [
    "from sklearn.model_selection import GridSearchCV\n",
    "from lightgbm import LGBMRegressor\n",
    "from xgboost import XGBRegressor\n",
    "from sklearn.ensemble import GradientBoostingRegressor\n",
    "from sklearn.metrics import mean_squared_error\n",
    "from sklearn.model_selection import cross_val_score\n",
    "lgb = LGBMRegressor(random_state=0)\n",
    "lgb_param_grid = {'n_estimators':[300,500,800],'learning_rate':[0.01,0.1]}\n",
    "lgb_grid = GridSearchCV(lgb,lgb_param_grid,n_jobs=25,cv=10,verbose=1)\n",
    "xgb = XGBRegressor(random_state=0)\n",
    "xgb_param_grid = {'n_estimators':[300,500,800],'learning_rate':[0.01,0.1]}\n",
    "xgb_grid = GridSearchCV(xgb,xgb_param_grid,n_jobs=25,cv=10,verbose=1)\n",
    "gb = GradientBoostingRegressor(random_state=0)\n",
    "gb_param_grid = {'n_estimators':[300,500,800],'learning_rate':[0.01,0.1]}\n",
    "gb_grid = GridSearchCV(gb,gb_param_grid,n_jobs=25,cv=10,verbose=1)"
   ]
  },
  {
   "cell_type": "code",
   "execution_count": 11,
   "metadata": {},
   "outputs": [
    {
     "name": "stdout",
     "output_type": "stream",
     "text": [
      "Fitting 10 folds for each of 6 candidates, totalling 60 fits\n"
     ]
    },
    {
     "name": "stderr",
     "output_type": "stream",
     "text": [
      "[Parallel(n_jobs=25)]: Using backend LokyBackend with 25 concurrent workers.\n",
      "[Parallel(n_jobs=25)]: Done  60 out of  60 | elapsed:  1.2min finished\n"
     ]
    },
    {
     "name": "stdout",
     "output_type": "stream",
     "text": [
      "Fitting 10 folds for each of 6 candidates, totalling 60 fits\n"
     ]
    },
    {
     "name": "stderr",
     "output_type": "stream",
     "text": [
      "[Parallel(n_jobs=25)]: Using backend LokyBackend with 25 concurrent workers.\n",
      "[Parallel(n_jobs=25)]: Done  60 out of  60 | elapsed:  4.1min finished\n",
      "C:\\ProgramData\\Anaconda3\\lib\\site-packages\\xgboost\\core.py:587: FutureWarning: Series.base is deprecated and will be removed in a future version\n",
      "  if getattr(data, 'base', None) is not None and \\\n",
      "C:\\ProgramData\\Anaconda3\\lib\\site-packages\\xgboost\\core.py:588: FutureWarning: Series.base is deprecated and will be removed in a future version\n",
      "  data.base is not None and isinstance(data, np.ndarray) \\\n"
     ]
    },
    {
     "name": "stdout",
     "output_type": "stream",
     "text": [
      "[09:56:40] WARNING: C:/Jenkins/workspace/xgboost-win64_release_0.90/src/objective/regression_obj.cu:152: reg:linear is now deprecated in favor of reg:squarederror.\n",
      "Fitting 10 folds for each of 6 candidates, totalling 60 fits\n"
     ]
    },
    {
     "name": "stderr",
     "output_type": "stream",
     "text": [
      "[Parallel(n_jobs=25)]: Using backend LokyBackend with 25 concurrent workers.\n",
      "[Parallel(n_jobs=25)]: Done  60 out of  60 | elapsed: 10.1min finished\n"
     ]
    }
   ],
   "source": [
    "lgb_grid.fit(X_train_std,X_label)\n",
    "xgb_grid.fit(X_train_std,X_label)\n",
    "gb_grid.fit(X_train_std,X_label)\n",
    "lgb_r = lgb_grid.best_estimator_\n",
    "xgb_r = xgb_grid.best_estimator_\n",
    "gb_r = gb_grid.best_estimator_"
   ]
  },
  {
   "cell_type": "code",
   "execution_count": 18,
   "metadata": {},
   "outputs": [
    {
     "name": "stderr",
     "output_type": "stream",
     "text": [
      "C:\\ProgramData\\Anaconda3\\lib\\site-packages\\xgboost\\core.py:587: FutureWarning: Series.base is deprecated and will be removed in a future version\n",
      "  if getattr(data, 'base', None) is not None and \\\n"
     ]
    },
    {
     "name": "stdout",
     "output_type": "stream",
     "text": [
      "[10:27:36] WARNING: C:/Jenkins/workspace/xgboost-win64_release_0.90/src/objective/regression_obj.cu:152: reg:linear is now deprecated in favor of reg:squarederror.\n"
     ]
    },
    {
     "name": "stderr",
     "output_type": "stream",
     "text": [
      "C:\\ProgramData\\Anaconda3\\lib\\site-packages\\xgboost\\core.py:587: FutureWarning: Series.base is deprecated and will be removed in a future version\n",
      "  if getattr(data, 'base', None) is not None and \\\n"
     ]
    },
    {
     "name": "stdout",
     "output_type": "stream",
     "text": [
      "[10:27:44] WARNING: C:/Jenkins/workspace/xgboost-win64_release_0.90/src/objective/regression_obj.cu:152: reg:linear is now deprecated in favor of reg:squarederror.\n"
     ]
    },
    {
     "name": "stderr",
     "output_type": "stream",
     "text": [
      "C:\\ProgramData\\Anaconda3\\lib\\site-packages\\xgboost\\core.py:587: FutureWarning: Series.base is deprecated and will be removed in a future version\n",
      "  if getattr(data, 'base', None) is not None and \\\n"
     ]
    },
    {
     "name": "stdout",
     "output_type": "stream",
     "text": [
      "[10:27:53] WARNING: C:/Jenkins/workspace/xgboost-win64_release_0.90/src/objective/regression_obj.cu:152: reg:linear is now deprecated in favor of reg:squarederror.\n"
     ]
    },
    {
     "name": "stderr",
     "output_type": "stream",
     "text": [
      "C:\\ProgramData\\Anaconda3\\lib\\site-packages\\xgboost\\core.py:587: FutureWarning: Series.base is deprecated and will be removed in a future version\n",
      "  if getattr(data, 'base', None) is not None and \\\n"
     ]
    },
    {
     "name": "stdout",
     "output_type": "stream",
     "text": [
      "[10:28:01] WARNING: C:/Jenkins/workspace/xgboost-win64_release_0.90/src/objective/regression_obj.cu:152: reg:linear is now deprecated in favor of reg:squarederror.\n"
     ]
    },
    {
     "name": "stderr",
     "output_type": "stream",
     "text": [
      "C:\\ProgramData\\Anaconda3\\lib\\site-packages\\xgboost\\core.py:587: FutureWarning: Series.base is deprecated and will be removed in a future version\n",
      "  if getattr(data, 'base', None) is not None and \\\n"
     ]
    },
    {
     "name": "stdout",
     "output_type": "stream",
     "text": [
      "[10:28:10] WARNING: C:/Jenkins/workspace/xgboost-win64_release_0.90/src/objective/regression_obj.cu:152: reg:linear is now deprecated in favor of reg:squarederror.\n"
     ]
    }
   ],
   "source": [
    "lgb_score = cross_val_score(lgb_r,X_train_std,X_label,cv=5,scoring='neg_mean_squared_error')\n",
    "xgb_score = cross_val_score(xgb_r,X_train_std,X_label,cv=5,scoring='neg_mean_squared_error')\n",
    "gb_score = cross_val_score(gb_r,X_train_std,X_label,cv=5,scoring='neg_mean_squared_error')\n"
   ]
  },
  {
   "cell_type": "code",
   "execution_count": 16,
   "metadata": {},
   "outputs": [
    {
     "name": "stdout",
     "output_type": "stream",
     "text": [
      "-0.4654849561399127\n",
      "-0.4648760786646041\n",
      "-0.4670444668565511\n"
     ]
    }
   ],
   "source": [
    "print(lgb_score.mean())\n",
    "print(xgb_score.mean())\n",
    "print(gb_score.mean())"
   ]
  },
  {
   "cell_type": "code",
   "execution_count": 19,
   "metadata": {},
   "outputs": [],
   "source": [
    "y_model =xgb_r.predict(X_test_std)"
   ]
  },
  {
   "cell_type": "code",
   "execution_count": 21,
   "metadata": {},
   "outputs": [],
   "source": [
    "submit['happiness']=y_model\n",
    "submit.to_csv('gb_r.csv', index=None)"
   ]
  },
  {
   "cell_type": "code",
   "execution_count": null,
   "metadata": {},
   "outputs": [],
   "source": []
  }
 ],
 "metadata": {
  "kernelspec": {
   "display_name": "Python 3",
   "language": "python",
   "name": "python3"
  },
  "language_info": {
   "codemirror_mode": {
    "name": "ipython",
    "version": 3
   },
   "file_extension": ".py",
   "mimetype": "text/x-python",
   "name": "python",
   "nbconvert_exporter": "python",
   "pygments_lexer": "ipython3",
   "version": "3.7.3"
  }
 },
 "nbformat": 4,
 "nbformat_minor": 2
}
